{
 "cells": [
  {
   "cell_type": "code",
   "execution_count": 1,
   "metadata": {},
   "outputs": [],
   "source": [
    "import pandas as pd\n",
    "from sklearn.compose import make_column_transformer\n",
    "from sklearn.preprocessing import OneHotEncoder\n",
    "from sklearn.linear_model import LogisticRegression\n",
    "from sklearn.pipeline import make_pipeline\n",
    "from sklearn.model_selection import cross_val_score"
   ]
  },
  {
   "cell_type": "markdown",
   "metadata": {},
   "source": [
    "## Importing The Dataframe\n",
    "Our preprocessed dataframe can be imported from the csv that we had previously created in the last assignment."
   ]
  },
  {
   "cell_type": "code",
   "execution_count": 2,
   "metadata": {},
   "outputs": [
    {
     "data": {
      "text/html": [
       "<div>\n",
       "<style scoped>\n",
       "    .dataframe tbody tr th:only-of-type {\n",
       "        vertical-align: middle;\n",
       "    }\n",
       "\n",
       "    .dataframe tbody tr th {\n",
       "        vertical-align: top;\n",
       "    }\n",
       "\n",
       "    .dataframe thead th {\n",
       "        text-align: right;\n",
       "    }\n",
       "</style>\n",
       "<table border=\"1\" class=\"dataframe\">\n",
       "  <thead>\n",
       "    <tr style=\"text-align: right;\">\n",
       "      <th></th>\n",
       "      <th>poisonous</th>\n",
       "      <th>odor</th>\n",
       "      <th>habitat</th>\n",
       "    </tr>\n",
       "  </thead>\n",
       "  <tbody>\n",
       "    <tr>\n",
       "      <th>0</th>\n",
       "      <td>1</td>\n",
       "      <td>7</td>\n",
       "      <td>4</td>\n",
       "    </tr>\n",
       "    <tr>\n",
       "      <th>1</th>\n",
       "      <td>0</td>\n",
       "      <td>0</td>\n",
       "      <td>0</td>\n",
       "    </tr>\n",
       "    <tr>\n",
       "      <th>2</th>\n",
       "      <td>0</td>\n",
       "      <td>1</td>\n",
       "      <td>2</td>\n",
       "    </tr>\n",
       "    <tr>\n",
       "      <th>3</th>\n",
       "      <td>1</td>\n",
       "      <td>7</td>\n",
       "      <td>4</td>\n",
       "    </tr>\n",
       "    <tr>\n",
       "      <th>4</th>\n",
       "      <td>0</td>\n",
       "      <td>6</td>\n",
       "      <td>0</td>\n",
       "    </tr>\n",
       "    <tr>\n",
       "      <th>...</th>\n",
       "      <td>...</td>\n",
       "      <td>...</td>\n",
       "      <td>...</td>\n",
       "    </tr>\n",
       "    <tr>\n",
       "      <th>8119</th>\n",
       "      <td>0</td>\n",
       "      <td>6</td>\n",
       "      <td>1</td>\n",
       "    </tr>\n",
       "    <tr>\n",
       "      <th>8120</th>\n",
       "      <td>0</td>\n",
       "      <td>6</td>\n",
       "      <td>1</td>\n",
       "    </tr>\n",
       "    <tr>\n",
       "      <th>8121</th>\n",
       "      <td>0</td>\n",
       "      <td>6</td>\n",
       "      <td>1</td>\n",
       "    </tr>\n",
       "    <tr>\n",
       "      <th>8122</th>\n",
       "      <td>1</td>\n",
       "      <td>3</td>\n",
       "      <td>1</td>\n",
       "    </tr>\n",
       "    <tr>\n",
       "      <th>8123</th>\n",
       "      <td>0</td>\n",
       "      <td>6</td>\n",
       "      <td>1</td>\n",
       "    </tr>\n",
       "  </tbody>\n",
       "</table>\n",
       "<p>8124 rows × 3 columns</p>\n",
       "</div>"
      ],
      "text/plain": [
       "      poisonous  odor  habitat\n",
       "0             1     7        4\n",
       "1             0     0        0\n",
       "2             0     1        2\n",
       "3             1     7        4\n",
       "4             0     6        0\n",
       "...         ...   ...      ...\n",
       "8119          0     6        1\n",
       "8120          0     6        1\n",
       "8121          0     6        1\n",
       "8122          1     3        1\n",
       "8123          0     6        1\n",
       "\n",
       "[8124 rows x 3 columns]"
      ]
     },
     "execution_count": 2,
     "metadata": {},
     "output_type": "execute_result"
    }
   ],
   "source": [
    "dfm = pd.read_csv('https://github.com/alu-potato/IS362_Assignment13/raw/master/dfm.csv', index_col = 0)\n",
    "dfm"
   ]
  },
  {
   "cell_type": "markdown",
   "metadata": {},
   "source": [
    "## Processing the Predictor Columns\n",
    "Scikit does not technically work with categorical data, so if we leave our predictor columns as is they will be run through the estimator as numeric predictors as shown below. By creating dummy columns for each predictor column utilizing one hot encoder we are able to run this through our estimator now. I have chosen the two columns as individual predictors and then also decided to test how well both columns together do as a predictor."
   ]
  },
  {
   "cell_type": "code",
   "execution_count": 3,
   "metadata": {},
   "outputs": [
    {
     "data": {
      "text/plain": [
       "0       7\n",
       "1       0\n",
       "2       1\n",
       "3       7\n",
       "4       6\n",
       "       ..\n",
       "8119    6\n",
       "8120    6\n",
       "8121    6\n",
       "8122    3\n",
       "8123    6\n",
       "Name: odor, Length: 8124, dtype: int64"
      ]
     },
     "execution_count": 3,
     "metadata": {},
     "output_type": "execute_result"
    }
   ],
   "source": [
    "dfm.loc[:,'odor']"
   ]
  },
  {
   "cell_type": "code",
   "execution_count": 4,
   "metadata": {},
   "outputs": [],
   "source": [
    "encode = OneHotEncoder()\n",
    "X = encode.fit_transform(dfm.loc[:, ['odor']])\n",
    "X2 = encode.fit_transform(dfm.loc[:, ['habitat']])\n",
    "X3 = encode.fit_transform(dfm.drop('poisonous', axis = 'columns'))\n",
    "y = dfm['poisonous']"
   ]
  },
  {
   "cell_type": "code",
   "execution_count": 5,
   "metadata": {},
   "outputs": [
    {
     "name": "stdout",
     "output_type": "stream",
     "text": [
      "  (0, 7)\t1.0\n",
      "  (1, 0)\t1.0\n",
      "  (2, 1)\t1.0\n",
      "  (3, 7)\t1.0\n",
      "  (4, 6)\t1.0\n",
      "  (5, 0)\t1.0\n",
      "  (6, 0)\t1.0\n",
      "  (7, 1)\t1.0\n",
      "  (8, 7)\t1.0\n",
      "  (9, 0)\t1.0\n",
      "  (10, 1)\t1.0\n",
      "  (11, 0)\t1.0\n",
      "  (12, 0)\t1.0\n",
      "  (13, 7)\t1.0\n",
      "  (14, 6)\t1.0\n",
      "  (15, 6)\t1.0\n",
      "  (16, 6)\t1.0\n",
      "  (17, 7)\t1.0\n",
      "  (18, 7)\t1.0\n",
      "  (19, 7)\t1.0\n",
      "  (20, 0)\t1.0\n",
      "  (21, 7)\t1.0\n",
      "  (22, 1)\t1.0\n",
      "  (23, 0)\t1.0\n",
      "  (24, 1)\t1.0\n",
      "  :\t:\n",
      "  (8099, 6)\t1.0\n",
      "  (8100, 6)\t1.0\n",
      "  (8101, 8)\t1.0\n",
      "  (8102, 6)\t1.0\n",
      "  (8103, 6)\t1.0\n",
      "  (8104, 6)\t1.0\n",
      "  (8105, 6)\t1.0\n",
      "  (8106, 6)\t1.0\n",
      "  (8107, 6)\t1.0\n",
      "  (8108, 3)\t1.0\n",
      "  (8109, 6)\t1.0\n",
      "  (8110, 6)\t1.0\n",
      "  (8111, 6)\t1.0\n",
      "  (8112, 6)\t1.0\n",
      "  (8113, 3)\t1.0\n",
      "  (8114, 5)\t1.0\n",
      "  (8115, 6)\t1.0\n",
      "  (8116, 8)\t1.0\n",
      "  (8117, 3)\t1.0\n",
      "  (8118, 4)\t1.0\n",
      "  (8119, 6)\t1.0\n",
      "  (8120, 6)\t1.0\n",
      "  (8121, 6)\t1.0\n",
      "  (8122, 3)\t1.0\n",
      "  (8123, 6)\t1.0\n"
     ]
    }
   ],
   "source": [
    "print(X)"
   ]
  },
  {
   "cell_type": "markdown",
   "metadata": {},
   "source": [
    "## Estimator/Model Type\n",
    "We are predicting simply if a mushroom is or isn't poisonous which is an on/off or 0/1 situation. This makes it prime for using the logistic regression predictor model on it."
   ]
  },
  {
   "cell_type": "code",
   "execution_count": 6,
   "metadata": {},
   "outputs": [],
   "source": [
    "lr = LogisticRegression()"
   ]
  },
  {
   "cell_type": "markdown",
   "metadata": {},
   "source": [
    "## Prediction Accuracy\n",
    "We use cross_val_score to simply check the accuracy of our logistical regression model as it creates test cases that are then compared against our actual data for accuracy."
   ]
  },
  {
   "cell_type": "code",
   "execution_count": 7,
   "metadata": {},
   "outputs": [
    {
     "data": {
      "text/plain": [
       "0.9852301629405078"
      ]
     },
     "execution_count": 7,
     "metadata": {},
     "output_type": "execute_result"
    }
   ],
   "source": [
    "cross_val_score(lr, X, y, cv=5, scoring='accuracy').mean()"
   ]
  },
  {
   "cell_type": "code",
   "execution_count": 8,
   "metadata": {},
   "outputs": [
    {
     "data": {
      "text/plain": [
       "0.6667727927245168"
      ]
     },
     "execution_count": 8,
     "metadata": {},
     "output_type": "execute_result"
    }
   ],
   "source": [
    "cross_val_score(lr, X2, y, cv=5, scoring='accuracy').mean()"
   ]
  },
  {
   "cell_type": "code",
   "execution_count": 9,
   "metadata": {},
   "outputs": [
    {
     "data": {
      "text/plain": [
       "0.9572741947707465"
      ]
     },
     "execution_count": 9,
     "metadata": {},
     "output_type": "execute_result"
    }
   ],
   "source": [
    "cross_val_score(lr, X3, y, cv=5, scoring='accuracy').mean()"
   ]
  },
  {
   "cell_type": "markdown",
   "metadata": {},
   "source": [
    "## Conclusion\n",
    "As we predicted previously in the preprocessing step, odor is a very significant predictor for the toxicity of a mushroom. In fact, it seems that it can be used with a 98.5% accuracy rate when put into a logistical regression model which is very, very accurate. Habitat was not able to compete as a predictor but still was decently accurate at 66.7%. What surprised me the most though was the fact that the two predictor variables together were actually less accurate at predicting than just odor itself. This maybe a case of the significantly lower accuracy of using habitat to tell toxicity bringing down the very high accuracy of the odor predictor. To go further in analyzing this, it would be interesting to create an algorithm that takes a picture of a mushroom and then breaks down the predictor variables in order to predict if it is toxic or not. Although, things like odor and habitat would need to be manually input."
   ]
  }
 ],
 "metadata": {
  "kernelspec": {
   "display_name": "Python 3",
   "language": "python",
   "name": "python3"
  },
  "language_info": {
   "codemirror_mode": {
    "name": "ipython",
    "version": 3
   },
   "file_extension": ".py",
   "mimetype": "text/x-python",
   "name": "python",
   "nbconvert_exporter": "python",
   "pygments_lexer": "ipython3",
   "version": "3.7.4"
  }
 },
 "nbformat": 4,
 "nbformat_minor": 4
}
